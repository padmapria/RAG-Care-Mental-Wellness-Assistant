{
 "cells": [
  {
   "cell_type": "raw",
   "id": "7f3d6daa",
   "metadata": {},
   "source": [
    "## This project uses the following LLMs OpenAI, Llama3, Gemma2 for RAG response generation and RAG Evaluation "
   ]
  },
  {
   "cell_type": "code",
   "execution_count": 1,
   "id": "622c2d6f-3f74-4e95-a602-f7980fb335d9",
   "metadata": {
    "ExecuteTime": {
     "end_time": "2024-10-03T04:05:57.943753Z",
     "start_time": "2024-10-03T04:05:57.935520Z"
    }
   },
   "outputs": [],
   "source": [
    "!wget https://raw.githubusercontent.com/alexeygrigorev/minsearch/main/minsearch.py"
   ]
  },
  {
   "cell_type": "code",
   "execution_count": 27,
   "id": "79b66fa1-6dff-495c-967d-846027a73ded",
   "metadata": {
    "ExecuteTime": {
     "end_time": "2024-10-02T02:13:11.535516Z",
     "start_time": "2024-10-02T02:13:11.523682Z"
    }
   },
   "outputs": [],
   "source": [
    "import numpy as np\n",
    "import minsearch\n",
    "import json\n",
    "from tqdm.auto import tqdm\n",
    "\n",
    "import pandas as pd\n",
    "from langchain_core.prompts import PromptTemplate,ChatPromptTemplate\n",
    "from pydantic import BaseModel, Field\n",
    "from typing import List\n",
    "\n",
    "from langchain.output_parsers import PydanticOutputParser,RetryOutputParser\n",
    "from langchain_core.exceptions import OutputParserException\n",
    "\n",
    "from langchain_community.llms import Ollama\n",
    "\n",
    "from datasets import load_dataset\n",
    "from collections import defaultdict\n",
    "import warnings\n",
    "warnings.simplefilter(action='ignore', category=FutureWarning)\n",
    "import re"
   ]
  },
  {
   "cell_type": "code",
   "execution_count": 5,
   "id": "2a7d3b6d",
   "metadata": {
    "ExecuteTime": {
     "end_time": "2024-10-02T01:47:21.105752Z",
     "start_time": "2024-10-02T01:47:21.095445Z"
    }
   },
   "outputs": [],
   "source": [
    "QUERY_GENERATED_FILE = '../data/queries_generated.parquet'\n",
    "GEMMA2_QUERY_FILE = \"../data/gemma2_queries.parquet\"\n",
    "LLAMA3_QUERY_FILE = \"../data/llama3_queries.parquet\"\n",
    "QUERY_EVALUATED_FILE = '../data/queries_evaluated.parquet'\n",
    "RAG_EVALUDATION_RESULT_FILE = '../data/Evaluation_results_2.csv'"
   ]
  },
  {
   "cell_type": "markdown",
   "id": "d192e295-6080-4609-8119-7920c77573eb",
   "metadata": {},
   "source": [
    "## Ingestion"
   ]
  },
  {
   "cell_type": "code",
   "execution_count": 111,
   "id": "dcf6921e",
   "metadata": {
    "ExecuteTime": {
     "end_time": "2024-10-02T16:49:30.527289Z",
     "start_time": "2024-10-02T16:49:30.451397Z"
    }
   },
   "outputs": [
    {
     "data": {
      "text/plain": [
       "{'question_id': 0,\n",
       " 'question_title': 'Do I have too many issues for counseling',\n",
       " 'question': 'I have so many issues to address. I have a history of sexual abuse, I’m a breast cancer survivor and I am a lifetime insomniac. I have a long history of depression and I’m beginning to have anxiety. I have low self esteem but I’ve been happily married for almost 35 years. I’ve never had counseling about any of this. Do I have too many issues to address in counseling',\n",
       " 'question_link': 'https://counselchat.com/questions/do-i-have-too-many-issues-for-counseling',\n",
       " 'topic': 'depression',\n",
       " 'answer': 'It is very common for people to have multiple issues that they want to (and need to) address in counseling. I have had clients ask that same question and through more exploration, there is often an underlying fear that they \"can\\'t be helped\" or that they will \"be too much for their therapist.\" I don\\'t know if any of this rings true for you. But, most people have more than one problem in their lives and more often than not, people have numerous significant stressors in their lives. Let\\'s face it, life can be complicated! Therapists are completely ready and equipped to handle all of the issues small or large that a client presents in session. Most therapists over the first couple of sessions will help you prioritize the issues you are facing so that you start addressing the issues that are causing you the most distress. You can never have too many issues to address in counseling. All of the issues you mention above can be successfully worked through in counseling',\n",
       " 'therapist_info': 'Jennifer MolinariHypnotherapist & Licensed Counselor'}"
      ]
     },
     "execution_count": 111,
     "metadata": {},
     "output_type": "execute_result"
    }
   ],
   "source": [
    "df_org = pd.read_parquet(QUERY_EVALUATED_FILE)\n",
    "df_org['true_answer'] = df_org['answers'].apply(\n",
    "    lambda answer_list: ' '.join([answer['answer'] for answer in answer_list[:2] if 'answer' in answer]))\n",
    "\n",
    "def prepare_df(df_org):\n",
    "    \n",
    "    ground_truth_gemma_df = df_org[['question_id','gemma_queries']]\n",
    "    ground_truth_gemma_df =  ground_truth_gemma_df.explode(['gemma_queries'])\n",
    "    \n",
    "    ground_truth_llama_df = df_org[['question_id','llama3_queries']]\n",
    "    ground_truth_llama_df =  ground_truth_llama_df.explode(['llama3_queries'])\n",
    "    \n",
    "    quest_ans_df = df_org[['question_id','question_title','question','true_answer']]\n",
    "    \n",
    "    df = df_org.drop(['gemma_queries','gemma_queries_llama3_feedback','gemma_queries_llama3_score',\n",
    "                      'llama3_queries','llama3_queries_gemma_score','llama3_queries_gemma_feedback',\n",
    "                     'true_answer'], axis=1)\n",
    "\n",
    "    df_exploded = df.assign(answers=df['answers']).explode('answers')\n",
    "\n",
    "    # Filter to only consider the first 2 answers for each query\n",
    "    df_exploded['answer_index'] = df_exploded.groupby('question_id').cumcount()\n",
    "    df_filtered = df_exploded[df_exploded['answer_index'] < 2].drop('answer_index', axis=1)\n",
    "\n",
    "    # Expand the answers dictionary into separate columns\n",
    "    df_expanded = df_filtered['answers'].apply(pd.Series)\n",
    "\n",
    "    # Concatenate the original DataFrame with the expanded answers\n",
    "    raw_df = pd.concat([df_filtered.drop('answers', axis=1), df_expanded], axis=1)\n",
    "    \n",
    "    return raw_df, quest_ans_df, ground_truth_gemma_df, ground_truth_llama_df\n",
    "\n",
    "\n",
    "\n",
    "df,quest_ans_df, ground_truth_gemma_df, ground_truth_llama_df, = prepare_df(df_org)\n",
    "df.to_csv(\"../services/app/Mental_wellness_data.csv\",index=False)\n",
    "documents = df.to_dict(orient='records')\n",
    "documents[0]"
   ]
  },
  {
   "cell_type": "markdown",
   "id": "629c5a01-0ece-4cab-ba25-6ac0914d66bc",
   "metadata": {},
   "source": [
    "### Create embeddings using pretrained models"
   ]
  },
  {
   "cell_type": "code",
   "execution_count": 95,
   "id": "ae750a2f-2f94-4f96-8ace-d631107b875b",
   "metadata": {
    "ExecuteTime": {
     "end_time": "2024-10-02T16:29:16.907808Z",
     "start_time": "2024-10-02T16:29:14.189632Z"
    }
   },
   "outputs": [
    {
     "data": {
      "text/plain": [
       "384"
      ]
     },
     "execution_count": 95,
     "metadata": {},
     "output_type": "execute_result"
    }
   ],
   "source": [
    "from sentence_transformers import SentenceTransformer\n",
    "\n",
    "model = SentenceTransformer(\"multi-qa-MiniLM-L6-cos-v1\")\n",
    "q = \"How can i get emotional support?\"\n",
    "v = model.encode(q)\n",
    "len(v)"
   ]
  },
  {
   "cell_type": "markdown",
   "id": "09e662e5-0f9e-4c6a-acd1-76999a6f9c75",
   "metadata": {
    "jp-MarkdownHeadingCollapsed": true
   },
   "source": [
    "## RAG flow with MINSEARCH (text search)"
   ]
  },
  {
   "cell_type": "code",
   "execution_count": 102,
   "id": "9bcfcc74-c87e-4c81-9ca5-e1576697523d",
   "metadata": {
    "ExecuteTime": {
     "end_time": "2024-10-02T16:34:44.442767Z",
     "start_time": "2024-10-02T16:34:44.413204Z"
    }
   },
   "outputs": [],
   "source": [
    "from minsearch import Index\n",
    "\n",
    "index = Index(\n",
    "    text_fields=[\"question_title\",\"question\", \"answer\"],\n",
    "    keyword_fields=[\"question_id\"]\n",
    ")\n",
    "\n",
    "index.fit(documents)\n",
    "\n",
    "def minsearch_search(q, boost):\n",
    "    if boost is None:\n",
    "        boost = {}\n",
    "        \n",
    "    results = index.search(\n",
    "        query = q,\n",
    "        filter_dict = {},\n",
    "        boost_dict = boost,\n",
    "        num_results = 5\n",
    "    )\n",
    "    return results"
   ]
  },
  {
   "cell_type": "markdown",
   "id": "f46ee0f8",
   "metadata": {},
   "source": [
    "### LLM Config / Embedding setup"
   ]
  },
  {
   "cell_type": "code",
   "execution_count": 92,
   "id": "8fe1b447",
   "metadata": {
    "ExecuteTime": {
     "end_time": "2024-10-02T16:28:27.863676Z",
     "start_time": "2024-10-02T16:28:26.904304Z"
    }
   },
   "outputs": [],
   "source": [
    "import os\n",
    "from dotenv import load_dotenv\n",
    "import openai\n",
    "\n",
    "load_dotenv()\n",
    "openai.api_key = os.getenv('OPENAI_API_KEY')"
   ]
  },
  {
   "cell_type": "code",
   "execution_count": null,
   "id": "f862f3a2",
   "metadata": {},
   "outputs": [],
   "source": [
    "def build_prompt(query, search_results):\n",
    "    prompt_template = \"\"\"\n",
    "    You're a therapist AI assistant focusing on responding to depression related user queries.\n",
    "    Use only the facts from the CONTEXT when answering the QUESTION.\n",
    "\n",
    "    QUESTION: {question}\n",
    "\n",
    "    CONTEXT:\n",
    "    {context}\n",
    "    \"\"\".strip()\n",
    "\n",
    "    context = \"\"\n",
    "    #print(search_results)\n",
    "    for doc in search_results:\n",
    "        context += f\"\"\"\n",
    "        Question Title: {doc['question_title']}\n",
    "        Question: {doc['question']}\n",
    "        Answer: {doc['answer']}\n",
    "        Therapist : {doc['therapist_info']}\n",
    "        \"\"\" \n",
    "\n",
    "    prompt = prompt_template.format(question=query, context=context).strip()\n",
    "    return prompt\n",
    "\n",
    "def openai_4o(prompt):\n",
    "    \"\"\"\n",
    "    Send the prompt to OpenAI and get the model's response. This uses detailed context\n",
    "    to improve the quality of the AI's answer.\n",
    "    \"\"\"\n",
    "    response = openai.chat.completions.create(\n",
    "        model='gpt-4o-mini',\n",
    "        messages=[{\"role\": \"user\", \"content\": prompt}]\n",
    "    )\n",
    "    return response.choices[0].message.content\n",
    "\n",
    "\n",
    "def openai_3_5(prompt):\n",
    "    \"\"\"\n",
    "    Send the prompt to OpenAI and get the model's response. This uses detailed context\n",
    "    to improve the quality of the AI's answer.\n",
    "    \"\"\"\n",
    "    response = openai.chat.completions.create(\n",
    "        model=\"gpt-3.5-turbo\",\n",
    "        messages=[{\"role\": \"user\", \"content\": prompt}]\n",
    "    )\n",
    "    return response.choices[0].message.content\n",
    "\n",
    "\n",
    "def llama3(prompt):\n",
    "    \"\"\"\n",
    "    Send the prompt to llama3 from ollama and get the model's response. This uses detailed context\n",
    "    to improve the quality of the AI's answer.\n",
    "    \"\"\"\n",
    "    model = Ollama(model=\"llama3\", temperature=0.7)\n",
    "\n",
    "    # Generate response\n",
    "    response = model.invoke(prompt, max_tokens=512) \n",
    "    print(response)\n",
    "    print(\"*****\")\n",
    "    answer = re.sub(r'.*answer:', '', response).strip()\n",
    "    answer = answer.replace('*','')\n",
    "    \n",
    "    return answer\n",
    "\n",
    "def gemma2(prompt):\n",
    "    \"\"\"\n",
    "    Send the prompt to gemma2 from ollama and get the model's response. This uses detailed context\n",
    "    to improve the quality of the AI's answer.\n",
    "    \"\"\"\n",
    "    model = Ollama(model=\"gemma2:2b\", temperature=0.7)\n",
    "\n",
    "    # Generate response\n",
    "    response = model.invoke(prompt, max_tokens=512)\n",
    "    response = response.replace('*','')\n",
    "    return response\n",
    "\n",
    "\n",
    "def rag(query, retrieval_search_function_name=minsearch_search, llm_name=llama3,boost = {}):\n",
    "    if(retrieval_search_function_name==minsearch_search):\n",
    "        search_results = retrieval_search_function_name(query,boost)\n",
    "    else:\n",
    "        search_results = retrieval_search_function_name(query)\n",
    "    prompt = build_prompt(query, search_results)\n",
    "    answer = llm_name(prompt)\n",
    "    return answer"
   ]
  },
  {
   "cell_type": "code",
   "execution_count": 45,
   "id": "44642250-e3c6-468c-be97-fe5e4701fab1",
   "metadata": {
    "ExecuteTime": {
     "end_time": "2024-10-02T02:52:43.414352Z",
     "start_time": "2024-10-02T02:49:51.779585Z"
    },
    "scrolled": true
   },
   "outputs": [
    {
     "name": "stdout",
     "output_type": "stream",
     "text": [
      "I understand that you're struggling with depression and are looking for ways to come out of it. From the context, I want to emphasize that acceptance is a crucial first step. As Sherry Katz mentioned earlier, \"accept your nervousness and restless sleep\" as well as \"accept too about feeling down.\" It's essential to acknowledge and accept your emotions rather than trying to fight them.\n",
      "\n",
      "In addition to acceptance, it might be helpful to focus on small, manageable changes in your daily life. This could include finding something that remains the same after a breakup, like a hobby or a routine, as Lauren Ostrowski suggested. You may also want to consider reaching out to friends or family members who are supportive and can provide emotional validation.\n",
      "\n",
      "Remember that depression is not something you can simply \"snap out of.\" It's a serious condition that requires understanding, empathy, and professional help. If you're struggling with suicidal thoughts or feelings of worthlessness, please know that there are resources available to support you. The National Suicide Prevention Lifeline (1-800-273-8255) is always available 24/7.\n",
      "\n",
      "As Robin Landwehr mentioned, it's essential to learn skills to manage difficult thoughts and feelings differently. Acceptance and Commitment Therapy (ACT) might be a helpful approach for you. There are also many online resources, self-help books, and support groups that can provide guidance and community.\n",
      "\n",
      "Remember, coming out of depression is a process that takes time, patience, and support. Be gentle with yourself, and don't hesitate to reach out for help when you need it.\n",
      "*****\n"
     ]
    },
    {
     "data": {
      "text/plain": [
       "'I understand that you\\'re struggling with depression and are looking for ways to come out of it. From the context, I want to emphasize that acceptance is a crucial first step. As Sherry Katz mentioned earlier, \"accept your nervousness and restless sleep\" as well as \"accept too about feeling down.\" It\\'s essential to acknowledge and accept your emotions rather than trying to fight them.\\n\\nIn addition to acceptance, it might be helpful to focus on small, manageable changes in your daily life. This could include finding something that remains the same after a breakup, like a hobby or a routine, as Lauren Ostrowski suggested. You may also want to consider reaching out to friends or family members who are supportive and can provide emotional validation.\\n\\nRemember that depression is not something you can simply \"snap out of.\" It\\'s a serious condition that requires understanding, empathy, and professional help. If you\\'re struggling with suicidal thoughts or feelings of worthlessness, please know that there are resources available to support you. The National Suicide Prevention Lifeline (1-800-273-8255) is always available 24/7.\\n\\nAs Robin Landwehr mentioned, it\\'s essential to learn skills to manage difficult thoughts and feelings differently. Acceptance and Commitment Therapy (ACT) might be a helpful approach for you. There are also many online resources, self-help books, and support groups that can provide guidance and community.\\n\\nRemember, coming out of depression is a process that takes time, patience, and support. Be gentle with yourself, and don\\'t hesitate to reach out for help when you need it.'"
      ]
     },
     "execution_count": 45,
     "metadata": {},
     "output_type": "execute_result"
    }
   ],
   "source": [
    "query = \"How can i come out of depression?\"\n",
    "rag(query, minsearch_search)"
   ]
  },
  {
   "cell_type": "markdown",
   "id": "9fbb83c7-ce6a-47fe-8f0e-b5de66435b03",
   "metadata": {},
   "source": [
    "## RAG flow with elasticsearch (vector search)"
   ]
  },
  {
   "cell_type": "code",
   "execution_count": 96,
   "id": "3fb650a9-e4af-460c-9e67-bf7228ea7254",
   "metadata": {
    "ExecuteTime": {
     "end_time": "2024-10-02T16:29:16.919785Z",
     "start_time": "2024-10-02T16:29:16.909814Z"
    }
   },
   "outputs": [],
   "source": [
    "from elasticsearch import Elasticsearch\n",
    "\n",
    "def connect_to_es():\n",
    "    for _ in range(10):  # Retry up to 10 times\n",
    "        try:\n",
    "            es = Elasticsearch(\"http://localhost:9200\", basic_auth=('elastic', 'DkIedPPSCb'))\n",
    "            if es.ping():\n",
    "                return es\n",
    "        except Exception as e:\n",
    "            print(f\"Connection failed, retrying... ({e})\")\n",
    "            time.sleep(10)\n",
    "    raise Exception(\"Failed to connect to Elasticsearch after several retries\")\n",
    "    \n",
    "\n",
    "index_settings = {\n",
    "    \"settings\": {\n",
    "        \"number_of_shards\": 1,\n",
    "        \"number_of_replicas\": 0\n",
    "    },\n",
    "    \"mappings\": {\n",
    "        \"properties\": {\n",
    "            \"answer\": {\"type\": \"text\"},\n",
    "            \"question\": {\"type\": \"text\"},\n",
    "            \"question_title\": {\"type\": \"text\"},\n",
    "            \"therapist_info\": {\"type\": \"text\"},\n",
    "            \"question_id\": {\"type\": \"keyword\"},\n",
    "            \"question_title_vector\": {\n",
    "                \"type\": \"dense_vector\",\n",
    "                \"dims\": 384,\n",
    "                \"index\": True,\n",
    "                \"similarity\": \"cosine\"\n",
    "            },\n",
    "            \"question_vector\": {\n",
    "                \"type\": \"dense_vector\",\n",
    "                \"dims\": 384,\n",
    "                \"index\": True,\n",
    "                \"similarity\": \"cosine\"\n",
    "            },\n",
    "            \"answer_vector\": {\n",
    "                \"type\": \"dense_vector\",\n",
    "                \"dims\": 384,\n",
    "                \"index\": True,\n",
    "                \"similarity\": \"cosine\"\n",
    "            },\n",
    "            \"question_answer_vector\": {\n",
    "                \"type\": \"dense_vector\",\n",
    "                \"dims\": 384,\n",
    "                \"index\": True,\n",
    "                \"similarity\": \"cosine\"\n",
    "            },\n",
    "        }\n",
    "    }\n",
    "}\n",
    "\n",
    "\n",
    "def create_embeddings_index(es_client,index_name, filtered_documents):\n",
    "    for doc in tqdm(documents):\n",
    "        question_title = doc['question_title']\n",
    "        question = doc['question']\n",
    "        answer =  doc['answer']\n",
    "        qa = question_title + '    ' + question + '    ' + answer\n",
    "        \n",
    "        doc['question_title_vector'] = model.encode(question_title)\n",
    "        doc['question_vector'] = model.encode(question)\n",
    "        doc['answer_vector'] = model.encode(answer)\n",
    "        doc['question_answer_vector'] = model.encode(qa)\n",
    "\n",
    "    for doc in tqdm(documents):\n",
    "        es_client.index(index=index_name, document=doc)\n",
    "        "
   ]
  },
  {
   "cell_type": "code",
   "execution_count": 97,
   "id": "340e64f2",
   "metadata": {
    "ExecuteTime": {
     "end_time": "2024-10-02T16:29:27.959025Z",
     "start_time": "2024-10-02T16:29:17.711535Z"
    }
   },
   "outputs": [
    {
     "data": {
      "application/vnd.jupyter.widget-view+json": {
       "model_id": "71d71588b6874a35852bc659738b9ef3",
       "version_major": 2,
       "version_minor": 0
      },
      "text/plain": [
       "  0%|          | 0/99 [00:00<?, ?it/s]"
      ]
     },
     "metadata": {},
     "output_type": "display_data"
    },
    {
     "data": {
      "application/vnd.jupyter.widget-view+json": {
       "model_id": "da462fdfd2a9464988e93f2ee0e9f8fb",
       "version_major": 2,
       "version_minor": 0
      },
      "text/plain": [
       "  0%|          | 0/99 [00:00<?, ?it/s]"
      ]
     },
     "metadata": {},
     "output_type": "display_data"
    }
   ],
   "source": [
    "es_client = connect_to_es()\n",
    "es_client.info()\n",
    "\n",
    "index_name = \"mental_wellness_therapist\"\n",
    "\n",
    "es_client.indices.delete(index=index_name, ignore_unavailable=True)\n",
    "es_client.indices.create(index=index_name, body=index_settings)\n",
    "\n",
    "create_embeddings_index(es_client,index_name, documents)"
   ]
  },
  {
   "cell_type": "markdown",
   "id": "2a71df4e",
   "metadata": {},
   "source": [
    "### Vector Search ElasticSearch"
   ]
  },
  {
   "cell_type": "code",
   "execution_count": 98,
   "id": "68e7f7dd-80bd-45c8-b081-519627b67871",
   "metadata": {
    "ExecuteTime": {
     "end_time": "2024-10-02T16:29:30.447399Z",
     "start_time": "2024-10-02T16:29:30.426410Z"
    }
   },
   "outputs": [],
   "source": [
    "def elastic_search_knn(field, vector):\n",
    "    knn = {\n",
    "        \"field\": field,\n",
    "        \"query_vector\": vector,\n",
    "        \"k\": 5,\n",
    "        \"num_candidates\": 10000\n",
    "    }\n",
    "    \n",
    "    search_query = {\n",
    "    \"knn\": knn,\n",
    "    \"_source\": [\"answer\",\"question\", \"question_title\", \"therapist_info\", \"question_id\"]\n",
    "    }\n",
    "    \n",
    "    es_results = es_client.search(\n",
    "        index=index_name,\n",
    "        body=search_query\n",
    "    )\n",
    "    \n",
    "    result_docs = []\n",
    "    \n",
    "    for hit in es_results['hits']['hits']:\n",
    "        result_docs.append(hit['_source'])\n",
    "    return result_docs\n",
    "\n",
    "def question_answer_vector_knn(question):\n",
    "    v_q = model.encode(question)\n",
    "    return elastic_search_knn('question_answer_vector', v_q)\n",
    "\n",
    "\n",
    "def elastic_search_knn_combined(vector):\n",
    "    search_query = {\n",
    "        \"size\": 5,\n",
    "        \"query\": {\n",
    "            \"bool\": {\n",
    "                \"must\": [\n",
    "                    {\n",
    "                        \"script_score\": {\n",
    "                            \"query\": {\n",
    "                                \"match_all\": {}  # No specific term, matching all documents\n",
    "                            },\n",
    "                            \"script\": {\n",
    "                                \"source\": \"\"\"\n",
    "                                    cosineSimilarity(params.query_vector, 'question_title_vector') + \n",
    "                                    cosineSimilarity(params.query_vector, 'question_vector') + \n",
    "                                    cosineSimilarity(params.query_vector, 'answer_vector') + \n",
    "                                    cosineSimilarity(params.query_vector, 'question_answer_vector') + \n",
    "                                    1\n",
    "                                \"\"\",\n",
    "                                \"params\": {\n",
    "                                    \"query_vector\": vector\n",
    "                                }\n",
    "                            }\n",
    "                        }\n",
    "                    }\n",
    "                ]\n",
    "            }\n",
    "        },\n",
    "        \"_source\": [\"answer\", \"question\", \"question_title\", \"therapist_info\", \"question_id\"] \n",
    "    }\n",
    "\n",
    "    es_results = es_client.search(\n",
    "        index=index_name,\n",
    "        body=search_query\n",
    "    )\n",
    "    \n",
    "    result_docs = []\n",
    "    \n",
    "    for hit in es_results['hits']['hits']:\n",
    "        result_docs.append(hit['_source'])\n",
    "\n",
    "    return result_docs\n",
    "\n",
    "def question_answer_vector_knn_combined(question):\n",
    "    v_q = model.encode(question)\n",
    "    return elastic_search_knn_combined(v_q)"
   ]
  },
  {
   "cell_type": "code",
   "execution_count": 47,
   "id": "c6195aba",
   "metadata": {
    "ExecuteTime": {
     "end_time": "2024-10-02T02:56:11.131929Z",
     "start_time": "2024-10-02T02:53:45.476102Z"
    },
    "scrolled": true
   },
   "outputs": [
    {
     "name": "stdout",
     "output_type": "stream",
     "text": [
      "I'm so glad you're reaching out for support! Based on our conversation, it seems like you've been experiencing a long list of difficulties, including feeling lonely, isolated, and struggling to cope with your emotions. It's understandable that you might be feeling overwhelmed and unsure about how to move forward.\n",
      "\n",
      "In terms of coming out of depression, I want to emphasize the importance of self-care and taking things one step at a time. Remember that you're not alone in this process, and it's okay to ask for help when you need it. Consider reaching out to a therapist or counselor who can provide you with a safe and supportive space to work through your emotions.\n",
      "\n",
      "It might also be helpful to focus on small, achievable goals and celebrate your successes along the way. This could include things like taking care of yourself physically (e.g., eating well, exercising), practicing mindfulness or meditation, or engaging in activities that bring you joy and fulfillment.\n",
      "\n",
      "Remember, depression is not a sign of weakness, and it's not something to be ashamed of. It's a common experience that many people face at some point in their lives, and with the right support and strategies, you can work through it and find a more fulfilling life on the other side.\n",
      "\n",
      "Lastly, I want to acknowledge your strength and resilience in recognizing the need for change and seeking help. This takes a lot of courage, and I'm proud of you for taking this important step towards healing and growth.\n",
      "*****\n"
     ]
    },
    {
     "data": {
      "text/plain": [
       "\"I'm so glad you're reaching out for support! Based on our conversation, it seems like you've been experiencing a long list of difficulties, including feeling lonely, isolated, and struggling to cope with your emotions. It's understandable that you might be feeling overwhelmed and unsure about how to move forward.\\n\\nIn terms of coming out of depression, I want to emphasize the importance of self-care and taking things one step at a time. Remember that you're not alone in this process, and it's okay to ask for help when you need it. Consider reaching out to a therapist or counselor who can provide you with a safe and supportive space to work through your emotions.\\n\\nIt might also be helpful to focus on small, achievable goals and celebrate your successes along the way. This could include things like taking care of yourself physically (e.g., eating well, exercising), practicing mindfulness or meditation, or engaging in activities that bring you joy and fulfillment.\\n\\nRemember, depression is not a sign of weakness, and it's not something to be ashamed of. It's a common experience that many people face at some point in their lives, and with the right support and strategies, you can work through it and find a more fulfilling life on the other side.\\n\\nLastly, I want to acknowledge your strength and resilience in recognizing the need for change and seeking help. This takes a lot of courage, and I'm proud of you for taking this important step towards healing and growth.\""
      ]
     },
     "execution_count": 47,
     "metadata": {},
     "output_type": "execute_result"
    }
   ],
   "source": [
    "## Use elasticsearch for retrival and Generate answer with llama3\n",
    "query = \"How can i come out of depression?\"\n",
    "answer = rag(query,question_answer_vector_knn, llama3)\n",
    "answer"
   ]
  },
  {
   "cell_type": "code",
   "execution_count": 48,
   "id": "0e80f6d9",
   "metadata": {
    "ExecuteTime": {
     "end_time": "2024-10-02T02:56:27.668507Z",
     "start_time": "2024-10-02T02:56:11.133531Z"
    }
   },
   "outputs": [
    {
     "data": {
      "text/plain": [
       "\"It's understandable to feel lost when struggling with depression.  While it's important to seek professional help, here are some steps you can take: \\n\\n Connect with others: While isolating may be tempting, try spending time with friends or family. Even small interactions can provide a sense of support and connection.\\n Explore your interests: Rediscovering activities you enjoy can rekindle your motivation and spark joy in life.  Even if it's just for short periods. \\n Practice self-care: Prioritize basic needs like sleep, nutrition, and exercise. These simple steps can have a significant impact on mood and energy levels. \\n Reflect and seek professional help: Consider journaling about your thoughts and feelings. If you find yourself overwhelmed or unable to cope, don't hesitate to reach out to a therapist. They can provide guidance and support during this difficult time.\\n\\n\\nRemember, reaching out for help is a sign of strength, not weakness. Be patient with yourself and know that recovery takes time. \\n\""
      ]
     },
     "execution_count": 48,
     "metadata": {},
     "output_type": "execute_result"
    }
   ],
   "source": [
    "## Use elasticsearch for retrival and Generate answer with gemma2\n",
    "query = \"How can i come out of depression?\"\n",
    "answer = rag(query,question_answer_vector_knn_combined, gemma2)\n",
    "answer"
   ]
  },
  {
   "cell_type": "code",
   "execution_count": 99,
   "id": "b7700c17",
   "metadata": {
    "ExecuteTime": {
     "end_time": "2024-10-02T16:29:44.138134Z",
     "start_time": "2024-10-02T16:29:41.371711Z"
    }
   },
   "outputs": [
    {
     "data": {
      "text/plain": [
       "\"To come out of depression, it's important to focus on self-care and find ways to rest and relax to regain emotional and physical strength. It's also beneficial to recognize your own strength in dealing with difficult situations and to consider seeking professional help such as counseling or talking to a doctor for further support. Remember that addressing depression is a process, and being gentle and kind towards yourself can help release tension and improve your overall well-being.\""
      ]
     },
     "execution_count": 99,
     "metadata": {},
     "output_type": "execute_result"
    }
   ],
   "source": [
    "## Use elasticsearch for retrival and Generate answer with openai\n",
    "query = \"How can i come out of depression?\"\n",
    "answer = rag(query,question_answer_vector_knn, openai_3_5)\n",
    "answer"
   ]
  },
  {
   "cell_type": "markdown",
   "id": "dc1b0157-3b2a-4446-90c2-68321322f676",
   "metadata": {
    "jp-MarkdownHeadingCollapsed": true
   },
   "source": [
    "## Retrieval evaluation for minsearch and elasticsearch"
   ]
  },
  {
   "cell_type": "code",
   "execution_count": 49,
   "id": "29ae2f59-fc21-4361-b18c-809afa5c3b16",
   "metadata": {
    "ExecuteTime": {
     "end_time": "2024-10-02T02:56:38.224869Z",
     "start_time": "2024-10-02T02:56:38.214825Z"
    }
   },
   "outputs": [],
   "source": [
    "def hit_rate(relevance_total):\n",
    "    cnt = 0\n",
    "\n",
    "    for line in relevance_total:\n",
    "        if True in line:\n",
    "            cnt = cnt + 1\n",
    "\n",
    "    return cnt / len(relevance_total)\n",
    "    \n",
    "def mrr(relevance_total):\n",
    "    total_score = 0.0\n",
    "\n",
    "    for line in relevance_total:\n",
    "        for rank in range(len(line)):\n",
    "            if line[rank] == True:\n",
    "                total_score = total_score + 1 / (rank + 1)\n",
    "\n",
    "    return total_score / len(relevance_total)\n",
    "\n",
    "\n",
    "def evaluate(ground_truth, search_function, col_name, boost=None):\n",
    "    relevance_total = []\n",
    "    for q in tqdm(ground_truth):\n",
    "        doc_id = q['question_id']\n",
    "        if(search_function ==minsearch_search):\n",
    "            results = search_function(q[col_name], boost)\n",
    "        else:\n",
    "            results = search_function(q[col_name])\n",
    "            \n",
    "        relevance = [d['question_id'] == doc_id for d in results]\n",
    "        relevance_total.append(relevance)\n",
    "\n",
    "    return {\n",
    "        'hit_rate': hit_rate(relevance_total),\n",
    "        'mrr': mrr(relevance_total),\n",
    "    }"
   ]
  },
  {
   "cell_type": "code",
   "execution_count": 50,
   "id": "201c6cd7-7aff-42cb-b4a8-8a6eeb59195d",
   "metadata": {
    "ExecuteTime": {
     "end_time": "2024-10-02T02:58:29.958484Z",
     "start_time": "2024-10-02T02:57:53.782503Z"
    }
   },
   "outputs": [
    {
     "data": {
      "application/vnd.jupyter.widget-view+json": {
       "model_id": "10803fe0631a4a8e9b56ab8930da0adf",
       "version_major": 2,
       "version_minor": 0
      },
      "text/plain": [
       "  0%|          | 0/214 [00:00<?, ?it/s]"
      ]
     },
     "metadata": {},
     "output_type": "display_data"
    },
    {
     "name": "stdout",
     "output_type": "stream",
     "text": [
      "{'hit_rate': 0.6121495327102804, 'mrr': 0.6551401869158877}\n"
     ]
    },
    {
     "data": {
      "application/vnd.jupyter.widget-view+json": {
       "model_id": "a27ebd5995814dc2adf0d6f0e0e7203c",
       "version_major": 2,
       "version_minor": 0
      },
      "text/plain": [
       "  0%|          | 0/214 [00:00<?, ?it/s]"
      ]
     },
     "metadata": {},
     "output_type": "display_data"
    },
    {
     "name": "stdout",
     "output_type": "stream",
     "text": [
      "{'hit_rate': 0.8598130841121495, 'mrr': 1.0060747663551404}\n"
     ]
    },
    {
     "data": {
      "application/vnd.jupyter.widget-view+json": {
       "model_id": "31a9bdb2298046d58b0e86b5f673f236",
       "version_major": 2,
       "version_minor": 0
      },
      "text/plain": [
       "  0%|          | 0/214 [00:00<?, ?it/s]"
      ]
     },
     "metadata": {},
     "output_type": "display_data"
    },
    {
     "name": "stdout",
     "output_type": "stream",
     "text": [
      "{'hit_rate': 0.8598130841121495, 'mrr': 1.0137071651090346}\n"
     ]
    },
    {
     "data": {
      "application/vnd.jupyter.widget-view+json": {
       "model_id": "5f1edddba82f480ca51289df9845d79c",
       "version_major": 2,
       "version_minor": 0
      },
      "text/plain": [
       "  0%|          | 0/260 [00:00<?, ?it/s]"
      ]
     },
     "metadata": {},
     "output_type": "display_data"
    },
    {
     "name": "stdout",
     "output_type": "stream",
     "text": [
      "{'hit_rate': 0.5038461538461538, 'mrr': 0.5165384615384616}\n"
     ]
    },
    {
     "data": {
      "application/vnd.jupyter.widget-view+json": {
       "model_id": "c0b31ba8d91b48998b4463c29ce7239e",
       "version_major": 2,
       "version_minor": 0
      },
      "text/plain": [
       "  0%|          | 0/260 [00:00<?, ?it/s]"
      ]
     },
     "metadata": {},
     "output_type": "display_data"
    },
    {
     "name": "stdout",
     "output_type": "stream",
     "text": [
      "{'hit_rate': 0.7846153846153846, 'mrr': 0.8545512820512824}\n"
     ]
    },
    {
     "data": {
      "application/vnd.jupyter.widget-view+json": {
       "model_id": "c1c1f79921414c1a84f78b8fd4151b42",
       "version_major": 2,
       "version_minor": 0
      },
      "text/plain": [
       "  0%|          | 0/260 [00:00<?, ?it/s]"
      ]
     },
     "metadata": {},
     "output_type": "display_data"
    },
    {
     "name": "stdout",
     "output_type": "stream",
     "text": [
      "{'hit_rate': 0.7884615384615384, 'mrr': 0.8842307692307694}\n"
     ]
    }
   ],
   "source": [
    "ground_truth = ground_truth_gemma_df.to_dict(orient='records')\n",
    "\n",
    "print(evaluate(ground_truth, minsearch_search,'gemma_queries'))\n",
    "print(evaluate(ground_truth, question_answer_vector_knn,'gemma_queries'))\n",
    "print(evaluate(ground_truth, question_answer_vector_knn_combined,'gemma_queries'))\n",
    "\n",
    "\n",
    "ground_truth = ground_truth_llama_df.to_dict(orient='records')\n",
    "print(evaluate(ground_truth, minsearch_search,'llama3_queries'))\n",
    "print(evaluate(ground_truth, question_answer_vector_knn,'llama3_queries'))\n",
    "print(evaluate(ground_truth, question_answer_vector_knn_combined,'llama3_queries'))"
   ]
  },
  {
   "cell_type": "markdown",
   "id": "89ca5fd1",
   "metadata": {},
   "source": [
    "## RAG Answer Generation"
   ]
  },
  {
   "cell_type": "markdown",
   "id": "4b986e0a",
   "metadata": {},
   "source": [
    "### Generate response with Elasticsearch retrival, Gemma2 and llama3"
   ]
  },
  {
   "cell_type": "code",
   "execution_count": 58,
   "id": "bcb3b7bd",
   "metadata": {
    "ExecuteTime": {
     "end_time": "2024-10-02T05:49:19.673493Z",
     "start_time": "2024-10-02T05:49:19.660650Z"
    }
   },
   "outputs": [
    {
     "name": "stdout",
     "output_type": "stream",
     "text": [
      "\n"
     ]
    }
   ],
   "source": [
    "# ## Use elasticsearch for retrival on each row and generate the answer with Gemma2 and llama3\n",
    "tqdm.pandas()  # To use progress bar with pandas\n",
    "\n",
    "quest_ans_df['answer_gamma2'] = quest_ans_df.progress_apply(\n",
    "    lambda row: rag(row['question'], question_answer_vector_knn_combined, gemma2),  axis=1)\n",
    "\n",
    "\n",
    "quest_ans_df['answer_llama3'] = quest_ans_df.progress_apply(\n",
    "    lambda row: rag(row['question'], question_answer_vector_knn_combined, llama3),  axis=1)\n",
    "\n",
    "quest_ans_df_doc = quest_ans_df.to_dict(orient = 'records')"
   ]
  },
  {
   "cell_type": "markdown",
   "id": "ab43b83e",
   "metadata": {},
   "source": [
    "## RAG Evaluation"
   ]
  },
  {
   "cell_type": "markdown",
   "id": "e0380858-ef7b-4dbb-9fc1-288e1ebaea14",
   "metadata": {},
   "source": [
    "### LLM as judge using Gemma2 and OpenAI"
   ]
  },
  {
   "cell_type": "code",
   "execution_count": 70,
   "id": "305e97f4-6950-462b-9640-7ae4dc134990",
   "metadata": {
    "ExecuteTime": {
     "end_time": "2024-10-02T06:30:11.854510Z",
     "start_time": "2024-10-02T06:30:11.850439Z"
    }
   },
   "outputs": [],
   "source": [
    "Evaluation_template_answer_answer = \"\"\"\n",
    "You are an expert evaluator for a Retrieval-Augmented Generation (RAG) system.\n",
    "Your task is to analyze the relevance of the generated answer compared to the original answer provided.\n",
    "Based on the relevance and similarity of the generated answer to the original answer, you will classify\n",
    "it as \"NON_RELEVANT\", \"PARTLY_RELEVANT\", or \"RELEVANT\".\n",
    "\n",
    "Here is the data for evaluation:\n",
    "\n",
    "Original Answer: {true_answer}\n",
    "Generated Question: {question}\n",
    "Generated Answer: {answer_llm}\n",
    "\n",
    "Please analyze the content and context of the generated answer in relation to the original\n",
    "answer and provide your evaluation in parsable JSON without using code blocks:\n",
    "\n",
    "{{\n",
    "  \"Relevance\": \"NON_RELEVANT\" | \"PARTLY_RELEVANT\" | \"RELEVANT\",\n",
    "  \"Explanation\": \"[Provide a brief explanation for your evaluation]\"\n",
    "}}\n",
    "\"\"\".strip()\n",
    "\n",
    "\n",
    "Evaluation_template_quest_answer = \"\"\"\n",
    "You are an expert evaluator for a Retrieval-Augmented Generation (RAG) system.\n",
    "Your task is to analyze the relevance of the generated answer to the given question.\n",
    "Based on the relevance of the generated answer, you will classify it\n",
    "as \"NON_RELEVANT\", \"PARTLY_RELEVANT\", or \"RELEVANT\".\n",
    "\n",
    "Here is the data for evaluation:\n",
    "\n",
    "Question: {question}\n",
    "Generated Answer: {answer_llm}\n",
    "\n",
    "Please analyze the content and context of the generated answer in relation to the question\n",
    "and provide your evaluation in parsable JSON without using code blocks:\n",
    "\n",
    "{{\n",
    "  \"Relevance\": \"NON_RELEVANT\" | \"PARTLY_RELEVANT\" | \"RELEVANT\",\n",
    "  \"Explanation\": \"[Provide a brief explanation for your evaluation]\"\n",
    "}}\n",
    "\"\"\".strip()"
   ]
  },
  {
   "cell_type": "markdown",
   "id": "78e90220",
   "metadata": {},
   "source": [
    "### Evaluation with OpenAI "
   ]
  },
  {
   "cell_type": "code",
   "execution_count": 108,
   "id": "3bcb1dec",
   "metadata": {
    "ExecuteTime": {
     "end_time": "2024-10-02T16:40:28.517432Z",
     "start_time": "2024-10-02T16:40:24.797231Z"
    }
   },
   "outputs": [
    {
     "name": "stdout",
     "output_type": "stream",
     "text": [
      "To come out of depression, it's important to prioritize self-care and relaxation to regain your emotional and physical strength. Find ways to rest and relax that work for you. Upsetting incidents can be a way to push you towards new activities and people in your life. Remember, sometimes these events are meant to nudge you in a different direction. Start by taking care of yourself and finding activities that bring you peace and happiness.\n",
      "********\n",
      "{\n",
      "  \"Relevance\": \"PARTLY_RELEVANT\",\n",
      "  \"Explanation\": \"The generated answer provides general advice on self-care and relaxation to help with depression, which is partly relevant to the question. However, it does not offer specific strategies or resources for overcoming depression, making it only partially relevant.\"\n",
      "}\n",
      "********\n"
     ]
    },
    {
     "data": {
      "text/plain": [
       "(\"To come out of depression, it's important to prioritize self-care and relaxation to regain your emotional and physical strength. Find ways to rest and relax that work for you. Upsetting incidents can be a way to push you towards new activities and people in your life. Remember, sometimes these events are meant to nudge you in a different direction. Start by taking care of yourself and finding activities that bring you peace and happiness.\",\n",
       " 'PARTLY_RELEVANT',\n",
       " 'The generated answer provides general advice on self-care and relaxation to help with depression, which is partly relevant to the question. However, it does not offer specific strategies or resources for overcoming depression, making it only partially relevant.')"
      ]
     },
     "execution_count": 108,
     "metadata": {},
     "output_type": "execute_result"
    }
   ],
   "source": [
    "## Answer Genration and Evaluation with OpenAI for a single text query passeed\n",
    "def extract_llm_response_relevance_score(query):\n",
    "    answer_llm = rag(query,question_answer_vector_knn, openai_3_5)\n",
    "    print(answer_llm)\n",
    "    print(\"********\")\n",
    "    \n",
    "    prompt = Evaluation_template_quest_answer.format(question=query, answer_llm=answer_llm)\n",
    "    response_relevance_llm = openai_4o(prompt)\n",
    "    print(response_relevance_llm)\n",
    "    print(\"********\")\n",
    "    \n",
    "    ## Cleanup the response\n",
    "    cleaned_temp = response_relevance_llm.replace('```', '').replace('\\n', '').replace('json', '').rstrip(',').strip()\n",
    "    data = json.loads(cleaned_temp)\n",
    "    relevance = data.get(\"Relevance\")\n",
    "    relevance_expl =data.get(\"Explanation\")\n",
    "    \n",
    "    return answer_llm,relevance,relevance_expl\n",
    "    \n",
    "    \n",
    "query = \"How can i come out of depression?\"\n",
    "answer_llm,relevance,relevance_expl= extract_llm_response_relevance_score(query)\n",
    "answer_llm,relevance,relevance_expl"
   ]
  },
  {
   "cell_type": "code",
   "execution_count": 2,
   "id": "ae7b646d-5bb8-4b88-b1aa-97160e22690a",
   "metadata": {
    "ExecuteTime": {
     "end_time": "2024-10-03T04:19:02.219764Z",
     "start_time": "2024-10-03T04:19:02.206724Z"
    }
   },
   "outputs": [],
   "source": [
    "def extract_relevance(input_doc,template_name,answer_col):\n",
    "    \"\"\"\n",
    "    Extracts relevance and explanation from the input document based on a provided evaluation template.\n",
    "\n",
    "    Args:\n",
    "        input_doc (list of dict): A list of dictionaries where each dictionary represents a record.\n",
    "        template_name (str): Evaluation Template name \n",
    "        answer_col (str): Column name of LLM generated answer column \n",
    "\n",
    "    Returns:\n",
    "        tuple: A tuple containing two lists:\n",
    "            - relevance_type (list): A list of relevance values extracted from the response.\n",
    "            - explanation_type (list): A list of explanation values extracted from the response.\n",
    "\n",
    "    The function processes each record in `input_doc`, generates a prompt using `template_name`, \n",
    "    calls the `gemma2` function to get an answer, and then extracts the relevant fields from the \n",
    "    returned JSON data. The extracted relevance and explanation are appended to their respective lists.\n",
    "    \"\"\"\n",
    "    \n",
    "    relevance_type = []\n",
    "    explanation_type = []\n",
    "    ans = \"\"\n",
    "\n",
    "    for rec in tqdm(input_doc):\n",
    "        rec['answer_llm'] = rec[answer_col]\n",
    "        prompt = template_name.format(**rec)\n",
    "        ans = gemma2(prompt)\n",
    "        \n",
    "        cleaned_temp = ans.replace('```', '').replace('\\n', '').replace('json', '').rstrip(',').strip()\n",
    "        data = json.loads(cleaned_temp)\n",
    "\n",
    "        # Extract the relevant fields\n",
    "        relevance_type.append(data.get(\"Relevance\"))\n",
    "        explanation_type.append(data.get(\"Explanation\"))\n",
    "        \n",
    "    return relevance_type,explanation_type\n"
   ]
  },
  {
   "cell_type": "markdown",
   "id": "6852d61d",
   "metadata": {},
   "source": [
    "### Evaluation with gemma2 "
   ]
  },
  {
   "cell_type": "code",
   "execution_count": 88,
   "id": "55aef807-34c8-4491-a2ed-9b45074f73e5",
   "metadata": {
    "ExecuteTime": {
     "end_time": "2024-10-02T12:41:50.472985Z",
     "start_time": "2024-10-02T12:41:35.111139Z"
    }
   },
   "outputs": [
    {
     "data": {
      "text/plain": [
       "'```json\\n{\\n  \"Relevance\": \"RELEVANT\",\\n  \"Explanation\": \"The generated answer demonstrates a good understanding of the original answer\\'s content and provides relevant insights. It acknowledges the prevalence of multiple issues in therapy, highlights the therapist\\'s role in prioritizing them, and discusses potential treatment approaches for depression, anxiety, and low self-esteem. This level of detail aligns well with the original question and its context.\"\\n}\\n``` \\n'"
      ]
     },
     "execution_count": 88,
     "metadata": {},
     "output_type": "execute_result"
    }
   ],
   "source": [
    "# Testing for a single record\n",
    "record =  quest_ans_df_doc[0]\n",
    "question = record['question']\n",
    "answer_llm = record['answer_llama3']\n",
    "true_answer = record['true_answer']\n",
    "\n",
    "# prompt = Evaluation_template_answer_answer.format(**record)\n",
    "prompt = Evaluation_template_answer_answer.format(true_answer=true_answer, question=question, answer_llm=answer_llm)\n",
    "ans = gemma2(prompt)\n",
    "ans"
   ]
  },
  {
   "cell_type": "markdown",
   "id": "f6aae4a2",
   "metadata": {},
   "source": [
    "#### Answer vs answer Relevance"
   ]
  },
  {
   "cell_type": "code",
   "execution_count": 73,
   "id": "a952650f",
   "metadata": {
    "ExecuteTime": {
     "end_time": "2024-10-02T06:52:24.102744Z",
     "start_time": "2024-10-02T06:30:33.411052Z"
    }
   },
   "outputs": [
    {
     "data": {
      "application/vnd.jupyter.widget-view+json": {
       "model_id": "2533bf36e37149a48ccaafed6dd77ee1",
       "version_major": 2,
       "version_minor": 0
      },
      "text/plain": [
       "  0%|          | 0/52 [00:00<?, ?it/s]"
      ]
     },
     "metadata": {},
     "output_type": "display_data"
    },
    {
     "name": "stderr",
     "output_type": "stream",
     "text": [
      "C:\\Users\\padma\\AppData\\Local\\Temp\\ipykernel_85592\\1263348878.py:2: SettingWithCopyWarning: \n",
      "A value is trying to be set on a copy of a slice from a DataFrame.\n",
      "Try using .loc[row_indexer,col_indexer] = value instead\n",
      "\n",
      "See the caveats in the documentation: https://pandas.pydata.org/pandas-docs/stable/user_guide/indexing.html#returning-a-view-versus-a-copy\n",
      "  quest_ans_df['true_ans_gamma2_ans_relevance'] = relevance\n"
     ]
    },
    {
     "data": {
      "text/plain": [
       "true_ans_gamma2_ans_relevance\n",
       "PARTLY_RELEVANT    30\n",
       "RELEVANT           22\n",
       "Name: count, dtype: int64"
      ]
     },
     "execution_count": 73,
     "metadata": {},
     "output_type": "execute_result"
    }
   ],
   "source": [
    "# Call the extract_relevance function on each row, and extract the true answer to gemma2 answer relevance \n",
    "relevance,explanation = extract_relevance(quest_ans_df_doc, Evaluation_template_answer_answer,'answer_gamma2')\n",
    "quest_ans_df['true_ans_gamma2_ans_relevance'] = relevance\n",
    "quest_ans_df['true_ans_gamma2_ans_relevance'].value_counts()"
   ]
  },
  {
   "cell_type": "code",
   "execution_count": 76,
   "id": "7193e94b-6db7-440f-8c5b-37225afbb827",
   "metadata": {
    "ExecuteTime": {
     "end_time": "2024-10-02T07:14:28.640518Z",
     "start_time": "2024-10-02T06:53:21.165821Z"
    }
   },
   "outputs": [
    {
     "data": {
      "application/vnd.jupyter.widget-view+json": {
       "model_id": "40206fe00b3f4e5582b57e602cb5bfae",
       "version_major": 2,
       "version_minor": 0
      },
      "text/plain": [
       "  0%|          | 0/52 [00:00<?, ?it/s]"
      ]
     },
     "metadata": {},
     "output_type": "display_data"
    },
    {
     "name": "stderr",
     "output_type": "stream",
     "text": [
      "C:\\Users\\padma\\AppData\\Local\\Temp\\ipykernel_85592\\2777977267.py:2: SettingWithCopyWarning: \n",
      "A value is trying to be set on a copy of a slice from a DataFrame.\n",
      "Try using .loc[row_indexer,col_indexer] = value instead\n",
      "\n",
      "See the caveats in the documentation: https://pandas.pydata.org/pandas-docs/stable/user_guide/indexing.html#returning-a-view-versus-a-copy\n",
      "  quest_ans_df['true_ans_llama3_ans_relevance'] = relevance\n"
     ]
    },
    {
     "data": {
      "text/plain": [
       "true_ans_llama3_ans_relevance\n",
       "RELEVANT           27\n",
       "PARTLY_RELEVANT    25\n",
       "Name: count, dtype: int64"
      ]
     },
     "execution_count": 76,
     "metadata": {},
     "output_type": "execute_result"
    }
   ],
   "source": [
    "# Call the extract_relevance function on each row, and extract the true answer to llama3 answer relevance \n",
    "relevance,explanation = extract_relevance(quest_ans_df_doc, Evaluation_template_answer_answer,'answer_llama3')\n",
    "quest_ans_df['true_ans_llama3_ans_relevance'] = relevance\n",
    "quest_ans_df['true_ans_llama3_ans_relevance'].value_counts()"
   ]
  },
  {
   "cell_type": "markdown",
   "id": "19c01af2",
   "metadata": {},
   "source": [
    "#### Quest vs answer Relevance"
   ]
  },
  {
   "cell_type": "code",
   "execution_count": 68,
   "id": "403b283b-3704-403e-9452-9f73679bb70b",
   "metadata": {
    "ExecuteTime": {
     "end_time": "2024-10-02T06:25:47.389847Z",
     "start_time": "2024-10-02T06:12:17.674966Z"
    }
   },
   "outputs": [
    {
     "data": {
      "application/vnd.jupyter.widget-view+json": {
       "model_id": "1d6ac963aa8b4e019f1c0bf5296ff592",
       "version_major": 2,
       "version_minor": 0
      },
      "text/plain": [
       "  0%|          | 0/52 [00:00<?, ?it/s]"
      ]
     },
     "metadata": {},
     "output_type": "display_data"
    },
    {
     "name": "stderr",
     "output_type": "stream",
     "text": [
      "C:\\Users\\padma\\AppData\\Local\\Temp\\ipykernel_85592\\2333910405.py:6: SettingWithCopyWarning: \n",
      "A value is trying to be set on a copy of a slice from a DataFrame.\n",
      "Try using .loc[row_indexer,col_indexer] = value instead\n",
      "\n",
      "See the caveats in the documentation: https://pandas.pydata.org/pandas-docs/stable/user_guide/indexing.html#returning-a-view-versus-a-copy\n",
      "  quest_ans_df['quest_gamma2_ans_relevance'] = relevance2\n"
     ]
    },
    {
     "data": {
      "text/plain": [
       "quest_gamma2_ans_relevance\n",
       "RELEVANT           34\n",
       "PARTLY_RELEVANT    16\n",
       "NON_RELEVANT        2\n",
       "Name: count, dtype: int64"
      ]
     },
     "execution_count": 68,
     "metadata": {},
     "output_type": "execute_result"
    }
   ],
   "source": [
    "# Call the extract_relevance function on each row, and extract the question to gemma2 answer relevance \n",
    "relevance2,explanation2 = extract_relevance(quest_ans_df_doc, Evaluation_template_quest_answer,'answer_gamma2')\n",
    "quest_ans_df['quest_gamma2_ans_relevance'] = relevance2\n",
    "quest_ans_df['quest_gamma2_ans_relevance'].value_counts()"
   ]
  },
  {
   "cell_type": "code",
   "execution_count": 82,
   "id": "843b3bc3",
   "metadata": {
    "ExecuteTime": {
     "end_time": "2024-10-02T11:58:25.811317Z",
     "start_time": "2024-10-02T11:43:47.969552Z"
    }
   },
   "outputs": [
    {
     "data": {
      "application/vnd.jupyter.widget-view+json": {
       "model_id": "c6acf7ad32504dd1aa237eafb5060c27",
       "version_major": 2,
       "version_minor": 0
      },
      "text/plain": [
       "  0%|          | 0/52 [00:00<?, ?it/s]"
      ]
     },
     "metadata": {},
     "output_type": "display_data"
    },
    {
     "name": "stderr",
     "output_type": "stream",
     "text": [
      "C:\\Users\\padma\\AppData\\Local\\Temp\\ipykernel_85592\\3194275074.py:2: SettingWithCopyWarning: \n",
      "A value is trying to be set on a copy of a slice from a DataFrame.\n",
      "Try using .loc[row_indexer,col_indexer] = value instead\n",
      "\n",
      "See the caveats in the documentation: https://pandas.pydata.org/pandas-docs/stable/user_guide/indexing.html#returning-a-view-versus-a-copy\n",
      "  quest_ans_df['quest_llama3_ans_relevance'] = relevance2\n"
     ]
    },
    {
     "data": {
      "text/plain": [
       "quest_llama3_ans_relevance\n",
       "RELEVANT           41\n",
       "PARTLY_RELEVANT    10\n",
       "NON_RELEVANT        1\n",
       "Name: count, dtype: int64"
      ]
     },
     "execution_count": 82,
     "metadata": {},
     "output_type": "execute_result"
    }
   ],
   "source": [
    "# Call the extract_relevance function on each row, and extract the question to llama3 answer relevance \n",
    "relevance2,explanation2 = extract_relevance(quest_ans_df_doc, Evaluation_template_quest_answer,'answer_llama3')\n",
    "quest_ans_df['quest_llama3_ans_relevance'] = relevance2\n",
    "quest_ans_df['quest_llama3_ans_relevance'].value_counts()"
   ]
  },
  {
   "cell_type": "code",
   "execution_count": 83,
   "id": "004828d3-4b1e-4927-a70e-d97d26e33e02",
   "metadata": {
    "ExecuteTime": {
     "end_time": "2024-10-02T11:58:25.870292Z",
     "start_time": "2024-10-02T11:58:25.813330Z"
    }
   },
   "outputs": [],
   "source": [
    "quest_ans_df = quest_ans_df.drop(['true_answer'], axis=1)\n",
    "quest_ans_df.to_csv(RAG_EVALUDATION_RESULT_FILE, index=False)\n"
   ]
  },
  {
   "cell_type": "code",
   "execution_count": 86,
   "id": "c04c7a47",
   "metadata": {
    "ExecuteTime": {
     "end_time": "2024-10-02T12:01:53.794105Z",
     "start_time": "2024-10-02T12:01:53.775665Z"
    }
   },
   "outputs": [
    {
     "data": {
      "text/html": [
       "<div>\n",
       "<style scoped>\n",
       "    .dataframe tbody tr th:only-of-type {\n",
       "        vertical-align: middle;\n",
       "    }\n",
       "\n",
       "    .dataframe tbody tr th {\n",
       "        vertical-align: top;\n",
       "    }\n",
       "\n",
       "    .dataframe thead th {\n",
       "        text-align: right;\n",
       "    }\n",
       "</style>\n",
       "<table border=\"1\" class=\"dataframe\">\n",
       "  <thead>\n",
       "    <tr style=\"text-align: right;\">\n",
       "      <th></th>\n",
       "      <th>question_id</th>\n",
       "      <th>question_title</th>\n",
       "      <th>question</th>\n",
       "      <th>answer_gamma2</th>\n",
       "      <th>answer_llama3</th>\n",
       "      <th>quest_gamma2_ans_relevance</th>\n",
       "      <th>true_ans_gamma2_ans_relevance</th>\n",
       "      <th>true_ans_llama3_ans_relevance</th>\n",
       "      <th>quest_llama3_ans_relevance</th>\n",
       "    </tr>\n",
       "  </thead>\n",
       "  <tbody>\n",
       "    <tr>\n",
       "      <th>0</th>\n",
       "      <td>0</td>\n",
       "      <td>Do I have too many issues for counseling</td>\n",
       "      <td>I have so many issues to address. I have a his...</td>\n",
       "      <td>It's common for people to have multiple issues...</td>\n",
       "      <td>Based on the provided context, I would like to...</td>\n",
       "      <td>PARTLY_RELEVANT</td>\n",
       "      <td>PARTLY_RELEVANT</td>\n",
       "      <td>PARTLY_RELEVANT</td>\n",
       "      <td>PARTLY_RELEVANT</td>\n",
       "    </tr>\n",
       "    <tr>\n",
       "      <th>1</th>\n",
       "      <td>1</td>\n",
       "      <td>My apartment manager won't let me keep an emot...</td>\n",
       "      <td>I have been diagnosed with general anxiety and...</td>\n",
       "      <td>You mentioned having been diagnosed with gener...</td>\n",
       "      <td>I understand your frustration and concern abou...</td>\n",
       "      <td>RELEVANT</td>\n",
       "      <td>RELEVANT</td>\n",
       "      <td>RELEVANT</td>\n",
       "      <td>RELEVANT</td>\n",
       "    </tr>\n",
       "    <tr>\n",
       "      <th>2</th>\n",
       "      <td>2</td>\n",
       "      <td>I feel like my mother doesn't support me</td>\n",
       "      <td>My mother is combative with me when I say I do...</td>\n",
       "      <td>It sounds like you are dealing with a difficul...</td>\n",
       "      <td>I understand your frustration and concern abou...</td>\n",
       "      <td>PARTLY_RELEVANT</td>\n",
       "      <td>PARTLY_RELEVANT</td>\n",
       "      <td>PARTLY_RELEVANT</td>\n",
       "      <td>PARTLY_RELEVANT</td>\n",
       "    </tr>\n",
       "    <tr>\n",
       "      <th>3</th>\n",
       "      <td>3</td>\n",
       "      <td>Why do I feel like I don't belong anywhere</td>\n",
       "      <td>There are many people willing to lovingly prov...</td>\n",
       "      <td>It seems like you're struggling with a sense o...</td>\n",
       "      <td>I understand that you're feeling like you don'...</td>\n",
       "      <td>RELEVANT</td>\n",
       "      <td>PARTLY_RELEVANT</td>\n",
       "      <td>RELEVANT</td>\n",
       "      <td>RELEVANT</td>\n",
       "    </tr>\n",
       "    <tr>\n",
       "      <th>4</th>\n",
       "      <td>4</td>\n",
       "      <td>How can I help my girlfriend</td>\n",
       "      <td>My girlfriend just quit drinking and she becam...</td>\n",
       "      <td>Your girlfriend is experiencing depression aft...</td>\n",
       "      <td>I understand your concern about your girlfrien...</td>\n",
       "      <td>PARTLY_RELEVANT</td>\n",
       "      <td>PARTLY_RELEVANT</td>\n",
       "      <td>PARTLY_RELEVANT</td>\n",
       "      <td>RELEVANT</td>\n",
       "    </tr>\n",
       "  </tbody>\n",
       "</table>\n",
       "</div>"
      ],
      "text/plain": [
       "   question_id                                     question_title  \\\n",
       "0            0           Do I have too many issues for counseling   \n",
       "1            1  My apartment manager won't let me keep an emot...   \n",
       "2            2           I feel like my mother doesn't support me   \n",
       "3            3         Why do I feel like I don't belong anywhere   \n",
       "4            4                       How can I help my girlfriend   \n",
       "\n",
       "                                            question  \\\n",
       "0  I have so many issues to address. I have a his...   \n",
       "1  I have been diagnosed with general anxiety and...   \n",
       "2  My mother is combative with me when I say I do...   \n",
       "3  There are many people willing to lovingly prov...   \n",
       "4  My girlfriend just quit drinking and she becam...   \n",
       "\n",
       "                                       answer_gamma2  \\\n",
       "0  It's common for people to have multiple issues...   \n",
       "1  You mentioned having been diagnosed with gener...   \n",
       "2  It sounds like you are dealing with a difficul...   \n",
       "3  It seems like you're struggling with a sense o...   \n",
       "4  Your girlfriend is experiencing depression aft...   \n",
       "\n",
       "                                       answer_llama3  \\\n",
       "0  Based on the provided context, I would like to...   \n",
       "1  I understand your frustration and concern abou...   \n",
       "2  I understand your frustration and concern abou...   \n",
       "3  I understand that you're feeling like you don'...   \n",
       "4  I understand your concern about your girlfrien...   \n",
       "\n",
       "  quest_gamma2_ans_relevance true_ans_gamma2_ans_relevance  \\\n",
       "0            PARTLY_RELEVANT               PARTLY_RELEVANT   \n",
       "1                   RELEVANT                      RELEVANT   \n",
       "2            PARTLY_RELEVANT               PARTLY_RELEVANT   \n",
       "3                   RELEVANT               PARTLY_RELEVANT   \n",
       "4            PARTLY_RELEVANT               PARTLY_RELEVANT   \n",
       "\n",
       "  true_ans_llama3_ans_relevance quest_llama3_ans_relevance  \n",
       "0               PARTLY_RELEVANT            PARTLY_RELEVANT  \n",
       "1                      RELEVANT                   RELEVANT  \n",
       "2               PARTLY_RELEVANT            PARTLY_RELEVANT  \n",
       "3                      RELEVANT                   RELEVANT  \n",
       "4               PARTLY_RELEVANT                   RELEVANT  "
      ]
     },
     "execution_count": 86,
     "metadata": {},
     "output_type": "execute_result"
    }
   ],
   "source": [
    "quest_ans_df.head(5)"
   ]
  },
  {
   "cell_type": "code",
   "execution_count": null,
   "id": "ab2c7a71",
   "metadata": {},
   "outputs": [],
   "source": []
  }
 ],
 "metadata": {
  "hide_input": false,
  "kernelspec": {
   "display_name": "Python 3 (ipykernel)",
   "language": "python",
   "name": "python3"
  },
  "language_info": {
   "codemirror_mode": {
    "name": "ipython",
    "version": 3
   },
   "file_extension": ".py",
   "mimetype": "text/x-python",
   "name": "python",
   "nbconvert_exporter": "python",
   "pygments_lexer": "ipython3",
   "version": "3.12.5"
  },
  "toc": {
   "base_numbering": 1,
   "nav_menu": {},
   "number_sections": true,
   "sideBar": true,
   "skip_h1_title": false,
   "title_cell": "Table of Contents",
   "title_sidebar": "Contents",
   "toc_cell": false,
   "toc_position": {},
   "toc_section_display": true,
   "toc_window_display": true
  }
 },
 "nbformat": 4,
 "nbformat_minor": 5
}
